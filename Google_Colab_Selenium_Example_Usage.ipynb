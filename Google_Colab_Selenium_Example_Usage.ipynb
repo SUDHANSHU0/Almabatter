{
  "cells": [
    {
      "cell_type": "markdown",
      "metadata": {
        "id": "view-in-github",
        "colab_type": "text"
      },
      "source": [
        "<a href=\"https://colab.research.google.com/github/SUDHANSHU0/Almabatter/blob/main/Google_Colab_Selenium_Example_Usage.ipynb\" target=\"_parent\"><img src=\"https://colab.research.google.com/assets/colab-badge.svg\" alt=\"Open In Colab\"/></a>"
      ]
    },
    {
      "cell_type": "markdown",
      "metadata": {
        "id": "RcV-iRwOZHd6"
      },
      "source": [
        "# Use Selenium in Google Colab Notebooks!\n",
        "\n",
        "View project on [GitHub](https://github.com/jpjacobpadilla/Google-Colab-Selenium) or [PyPi](https://pypi.org/project/google-colab-selenium/)\n"
      ]
    },
    {
      "cell_type": "markdown",
      "metadata": {
        "id": "V8N1hijwsQVf"
      },
      "source": [
        "## Example Usage"
      ]
    },
    {
      "cell_type": "code",
      "execution_count": 1,
      "metadata": {
        "id": "Jnl1ReNfmfd5",
        "colab": {
          "base_uri": "https://localhost:8080/"
        },
        "outputId": "81daf52c-fabb-44e8-82d0-721a85047520"
      },
      "outputs": [
        {
          "output_type": "stream",
          "name": "stdout",
          "text": [
            "\u001b[2K   \u001b[90m━━━━━━━━━━━━━━━━━━━━━━━━━━━━━━━━━━━━━━━━\u001b[0m \u001b[32m9.7/9.7 MB\u001b[0m \u001b[31m21.5 MB/s\u001b[0m eta \u001b[36m0:00:00\u001b[0m\n",
            "\u001b[2K   \u001b[90m━━━━━━━━━━━━━━━━━━━━━━━━━━━━━━━━━━━━━━━━\u001b[0m \u001b[32m481.7/481.7 kB\u001b[0m \u001b[31m18.4 MB/s\u001b[0m eta \u001b[36m0:00:00\u001b[0m\n",
            "\u001b[2K   \u001b[90m━━━━━━━━━━━━━━━━━━━━━━━━━━━━━━━━━━━━━━━━\u001b[0m \u001b[32m58.3/58.3 kB\u001b[0m \u001b[31m2.0 MB/s\u001b[0m eta \u001b[36m0:00:00\u001b[0m\n",
            "\u001b[?25h"
          ]
        }
      ],
      "source": [
        "%pip install -q google-colab-selenium"
      ]
    },
    {
      "cell_type": "code",
      "execution_count": 2,
      "metadata": {
        "id": "_GPPCAzOj-mG"
      },
      "outputs": [],
      "source": [
        "import google_colab_selenium as gs"
      ]
    },
    {
      "cell_type": "code",
      "execution_count": null,
      "metadata": {
        "colab": {
          "base_uri": "https://localhost:8080/",
          "height": 38
        },
        "id": "rsJnz63jmtw1",
        "outputId": "06b4cef4-395d-4452-ec1a-996379d45b8e"
      },
      "outputs": [
        {
          "output_type": "display_data",
          "data": {
            "text/plain": [
              "<IPython.core.display.HTML object>"
            ],
            "text/html": [
              "\n",
              "            <div class=\"spinner-container\">\n",
              "                <div class=\"spinner\" id=\"9fce592b-f300-4495-babe-a18a9f9165fc-circle\"></div>\n",
              "                <div class=\"spinner-text\" id=\"9fce592b-f300-4495-babe-a18a9f9165fc-text\">Updating and upgrading APT</div>\n",
              "            </div>\n",
              "            <style>\n",
              "                @keyframes spin {\n",
              "                    from { transform: rotate(0deg); }\n",
              "                    to { transform: rotate(360deg); }\n",
              "                }\n",
              "\n",
              "                .spinner-container {\n",
              "                    display: flex;\n",
              "                    align-items: center;\n",
              "                    margin-bottom: 3px;\n",
              "                }\n",
              "\n",
              "                .spinner {\n",
              "                    border: 3px solid rgba(0, 0, 0, 0.1);\n",
              "                    border-left-color: lightblue;\n",
              "                    border-radius: 50%;\n",
              "                    width: 12px;\n",
              "                    height: 12px;\n",
              "                    animation: spin 1s linear infinite;\n",
              "                }\n",
              "\n",
              "                .spinner-text {\n",
              "                    padding-left: 6px;\n",
              "                }\n",
              "            </style>\n",
              "        "
            ]
          },
          "metadata": {}
        }
      ],
      "source": [
        "driver = gs.Chrome()"
      ]
    },
    {
      "cell_type": "code",
      "execution_count": null,
      "metadata": {
        "id": "xvawzPAvm5Nq"
      },
      "outputs": [],
      "source": [
        "driver.get('https://www.google.com')\n",
        "print(driver.title)\n",
        "driver.quit()"
      ]
    },
    {
      "cell_type": "markdown",
      "metadata": {
        "id": "BppV2phCpkNk"
      },
      "source": [
        "## Example with Undetected-Chromedriver\n",
        "\n",
        "This package adds a few patches to Chromedriver which attempt to make it more stealthy.\n",
        "\n",
        "[Undetected-Chromedriver on GitHub](https://github.com/ultrafunkamsterdam/undetected-chromedriver)\n"
      ]
    },
    {
      "cell_type": "code",
      "execution_count": null,
      "metadata": {
        "id": "znHVGBdvpjVT"
      },
      "outputs": [],
      "source": [
        "%pip install -q google-colab-selenium[undetected]"
      ]
    },
    {
      "cell_type": "code",
      "execution_count": null,
      "metadata": {
        "id": "joEgyLTLqBED"
      },
      "outputs": [],
      "source": [
        "import google_colab_selenium as gs"
      ]
    },
    {
      "cell_type": "code",
      "execution_count": null,
      "metadata": {
        "id": "8PitnrlsqFoj"
      },
      "outputs": [],
      "source": [
        "driver = gs.UndetectedChrome()\n",
        "driver.get('https://www.google.com')\n",
        "print(driver.title)\n",
        "driver.quit()"
      ]
    },
    {
      "cell_type": "markdown",
      "metadata": {
        "id": "_-lccjNZqLTH"
      },
      "source": [
        "## Example of Adding extra Options in Google-Colab-Selenium"
      ]
    },
    {
      "cell_type": "code",
      "execution_count": null,
      "metadata": {
        "id": "vpwUq19kqKqP"
      },
      "outputs": [],
      "source": [
        "import google_colab_selenium as gs\n",
        "from selenium.webdriver.chrome.options import Options\n",
        "\n",
        "# Instantiate options\n",
        "options = Options()\n",
        "\n",
        "# Add extra options\n",
        "options.add_argument(\"--window-size=1920,1080\")  # Set the window size\n",
        "options.add_argument(\"--disable-infobars\")  # Disable the infobars\n",
        "options.add_argument(\"--disable-popup-blocking\")  # Disable pop-ups\n",
        "options.add_argument(\"--ignore-certificate-errors\")  # Ignore certificate errors\n",
        "options.add_argument(\"--incognito\")  # Use Chrome in incognito mode\n",
        "\n",
        "\n",
        "driver = gs.Chrome(options=options)\n",
        "\n",
        "driver.get('https://github.com/jpjacobpadilla/Google-Colab-Selenium')\n",
        "print(driver.title)\n",
        "driver.quit()"
      ]
    }
  ],
  "metadata": {
    "colab": {
      "provenance": [],
      "include_colab_link": true
    },
    "kernelspec": {
      "display_name": "Python 3",
      "name": "python3"
    },
    "language_info": {
      "name": "python"
    }
  },
  "nbformat": 4,
  "nbformat_minor": 0
}