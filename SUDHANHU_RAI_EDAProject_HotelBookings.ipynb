{
  "cells": [
    {
      "cell_type": "markdown",
      "metadata": {
        "id": "view-in-github",
        "colab_type": "text"
      },
      "source": [
        "<a href=\"https://colab.research.google.com/github/SUDHANSHU0/Almabatter/blob/main/SUDHANHU_RAI_EDAProject_HotelBookings.ipynb\" target=\"_parent\"><img src=\"https://colab.research.google.com/assets/colab-badge.svg\" alt=\"Open In Colab\"/></a>"
      ]
    },
    {
      "cell_type": "markdown",
      "metadata": {
        "id": "vncDsAP0Gaoa"
      },
      "source": [
        "# **Project Name**    - Hotel Booking\n",
        "\n"
      ]
    },
    {
      "cell_type": "markdown",
      "metadata": {
        "id": "51wfBGhXrkWh"
      },
      "source": [
        "##### **Project Type**    - EDA\n",
        "##### **Contribution**    - SUDHANSHU RAI (Individual)"
      ]
    },
    {
      "cell_type": "markdown",
      "metadata": {
        "id": "FJNUwmbgGyua"
      },
      "source": [
        "# **Project Summary -**"
      ]
    },
    {
      "cell_type": "markdown",
      "metadata": {
        "id": "F6v_1wHtG2nS"
      },
      "source": [
        "**Hotel Booking Analysis – Project Summary**\n",
        "\n",
        "**Introduction**\n",
        "\n",
        "This project focuses on performing Exploratory Data Analysis (EDA) on a hotel booking dataset to understand customer booking behavior, uncover trends, and gain actionable insights. EDA plays a crucial role in any data science project, as it helps us understand the data’s structure, quality, and relationships before applying any advanced modeling or predictive techniques.\n",
        "\n",
        "**About the Dataset**\n",
        "\n",
        "The dataset consists of booking records from two types of hotels: City Hotels and Resort Hotels. Each record provides detailed information such as the type of hotel, booking and arrival dates, the number of adults, children, and babies, country of origin, room details, customer type, and whether or not the booking was canceled. These variables allow for a thorough analysis of booking trends and customer behavior.\n",
        "\n",
        "**Step 1: Data Cleaning**\n",
        "\n",
        "Before diving into the analysis, the dataset was cleaned to ensure accuracy and reliability. This involved identifying and handling missing values, such as filling in missing entries for variables like “children,” “agent,” “company,” and “country.” Duplicated records were also removed to avoid skewed results. Additionally, data types for some columns were converted to the appropriate format (e.g., converting agent and company IDs to integers), and new calculated columns like total stay duration and total number of guests were created to enrich the analysis.\n",
        "\n",
        "**Step 2: Exploring the Data**\n",
        "\n",
        "After cleaning the data, I performed descriptive and visual exploration:\n",
        "\n",
        "**▪ Basic Statistical Analysis:**\n",
        "I calculated the average values for variables such as lead time (the number of days between booking and arrival), length of stay (both weekend and weekday nights), and the number of adults, children, and babies. These statistics provided a general understanding of guest behavior and preferences.\n",
        "\n",
        "**▪ Data Visualization Techniques:**\n",
        "To gain deeper insights, I used a variety of visualizations:\n",
        "\n",
        "Bar charts to compare the number of canceled and non-canceled bookings by hotel type.\n",
        "\n",
        "Pie charts to show the distribution of customer types (e.g., Transient, Group).\n",
        "\n",
        "Scatter plots to examine the relationship between total stay duration and the number of special requests.\n",
        "\n",
        " **Key Insights from the Analysis**\n",
        "\n",
        "**Hotel Preference:**\n",
        "City Hotels received more bookings than Resort Hotels, suggesting higher demand in urban locations, possibly due to business travel or better connectivity.\n",
        "\n",
        "**Booking Cancellations:**\n",
        "Cancellation rates were significantly high, especially for City Hotels. This indicates the need to investigate possible reasons, such as booking policies or overbooking strategies.\n",
        "\n",
        "**Country-wise Guest Origins:**\n",
        "Most bookings came from Portugal, the United Kingdom, France, and Spain. This insight can help hotels focus their marketing strategies on these high-conversion regions.\n",
        "\n",
        "**Seasonal Trends:**\n",
        "The majority of bookings were made during the summer months (June to August), highlighting a peak travel season. Hotels can prepare for higher occupancy and adjust staffing and pricing strategies accordingly.\n",
        "\n",
        "**Customer Types:**\n",
        "Most guests were Transient customers, meaning individual travelers rather than corporate or group bookings. This information is useful for tailoring services and promotions.\n",
        "\n",
        " **Why This Analysis Matters**\n",
        "\n",
        "The insights obtained from this project can significantly benefit hotel management and marketing teams. By understanding customer preferences, seasonal trends, and cancellation behaviors, hotels can:\n",
        "\n",
        "Optimize pricing and availability based on demand.\n",
        "\n",
        "Improve marketing campaigns targeted at key customer groups or regions.\n",
        "\n",
        "Enhance guest experience by addressing frequent special requests.\n",
        "\n",
        "Develop smarter cancellation and booking policies to reduce revenue loss.\n",
        "\n",
        " **Conclusion**\n",
        "\n",
        "This project provided a comprehensive walkthrough of data cleaning, exploration, and visualization techniques using Python. I learned how to handle real-world data, identify patterns, and extract insights that can drive business decisions. Exploratory Data Analysis proved to be an essential foundation for understanding the dataset and preparing it for more advanced analytics. It also highlighted how data-driven decisions can lead to better operations, marketing, and customer satisfaction in the hospitality industry."
      ]
    },
    {
      "cell_type": "markdown",
      "metadata": {
        "id": "w6K7xa23Elo4"
      },
      "source": [
        "# **Links -**"
      ]
    },
    {
      "cell_type": "markdown",
      "metadata": {
        "id": "h1o69JH3Eqqn"
      },
      "source": [
        "#### **GitHub Link:** - [EDA-PROJECT OF HOTEL BOOKING](https://github.com/SUDHANSHU0/Almabatter/blob/main/SUDHANHU_RAI_EDAProject_HotelBookings.ipynb)\n",
        "\n",
        "#### **NoteBook Link(colab):** - [EDA PROJECT NOTEBOOK OF HOTEL BOOKING](https://colab.research.google.com/drive/1cErm4yCg3D5C8OXMDAl6MpMTIAloHnRn?usp=sharing)"
      ]
    },
    {
      "cell_type": "markdown",
      "metadata": {
        "id": "yQaldy8SH6Dl"
      },
      "source": [
        "# **Problem Statement**\n"
      ]
    },
    {
      "cell_type": "markdown",
      "source": [
        "###  Problem Statement.\n",
        "We want to study hotel booking data to understand how people book rooms.  \n",
        "This will help hotels make better choices, plan well, and give good service to customers.  \n"
      ],
      "metadata": {
        "id": "amMH3be9X7NS"
      }
    },
    {
      "cell_type": "markdown",
      "metadata": {
        "id": "PH-0ReGfmX4f"
      },
      "source": [
        "## **Define Your Business Objective?**"
      ]
    },
    {
      "cell_type": "markdown",
      "metadata": {
        "id": "PhDvGCAqmjP1"
      },
      "source": [
        "### 1 Make More Money\n",
        "- Learn when and how people book rooms\n",
        "- Use this to set smart prices and give offers\n",
        "\n",
        "### 2 Work Better and Faster\n",
        "- Help hotels plan for busy times\n",
        "- Use staff and rooms the right way\n",
        "- Stop problems like cancellations or empty rooms\n",
        "\n",
        "### 3 Keep Customers Happy\n",
        "- Know what different guests like\n",
        "- Give good service so they return\n",
        "\n",
        "### 4 Avoid Problems\n",
        "- Watch out for things like too many cancellations\n",
        "- Use data to make smart hotel decisions\n"
      ]
    },
    {
      "cell_type": "markdown",
      "metadata": {
        "id": "mDgbUHAGgjLW"
      },
      "source": [
        "# **General Guidelines** : -  "
      ]
    },
    {
      "cell_type": "markdown",
      "metadata": {
        "id": "ZrxVaUj-hHfC"
      },
      "source": [
        "1.   Well-structured, formatted, and commented code is required.\n",
        "2.   Exception Handling, Production Grade Code & Deployment Ready Code will be a plus. Those students will be awarded some additional credits.\n",
        "     \n",
        "     The additional credits will have advantages over other students during Star Student selection.\n",
        "       \n",
        "             [ Note: - Deployment Ready Code is defined as, the whole .ipynb notebook should be executable in one go\n",
        "                       without a single error logged. ]\n",
        "\n",
        "3.   Each and every logic should have proper comments.\n",
        "4. You may add as many number of charts you want. Make Sure for each and every chart the following format should be answered.\n",
        "        \n",
        "\n",
        "```\n",
        "# Chart visualization code\n",
        "```\n",
        "            \n",
        "\n",
        "*   Why did you pick the specific chart?\n",
        "*   What is/are the insight(s) found from the chart?\n",
        "* Will the gained insights help creating a positive business impact?\n",
        "Are there any insights that lead to negative growth? Justify with specific reason.\n",
        "\n",
        "5. You have to create at least 20 logical & meaningful charts having important insights.\n",
        "\n",
        "\n",
        "[ Hints : - Do the Vizualization in  a structured way while following \"UBM\" Rule.\n",
        "\n",
        "U - Univariate Analysis,\n",
        "\n",
        "B - Bivariate Analysis (Numerical - Categorical, Numerical - Numerical, Categorical - Categorical)\n",
        "\n",
        "M - Multivariate Analysis\n",
        " ]\n",
        "\n",
        "\n",
        "\n"
      ]
    },
    {
      "cell_type": "markdown",
      "metadata": {
        "id": "O_i_v8NEhb9l"
      },
      "source": [
        "# ***Let's Begin !***"
      ]
    },
    {
      "cell_type": "markdown",
      "metadata": {
        "id": "HhfV-JJviCcP"
      },
      "source": [
        "## ***1. Know Your Data***"
      ]
    },
    {
      "cell_type": "markdown",
      "metadata": {
        "id": "-_4b_6x-ELyK"
      },
      "source": [
        "### Import Libraries"
      ]
    },
    {
      "cell_type": "code",
      "execution_count": null,
      "metadata": {
        "id": "M8Vqi-pPk-HR"
      },
      "outputs": [],
      "source": [
        "# Import Libraries\n",
        "import numpy as np\n",
        "import pandas as pd\n",
        "import matplotlib.pyplot as plt\n",
        "import seaborn as sns"
      ]
    },
    {
      "cell_type": "markdown",
      "metadata": {
        "id": "3RnN4peoiCZX"
      },
      "source": [
        "### Dataset Loading"
      ]
    },
    {
      "cell_type": "code",
      "execution_count": null,
      "metadata": {
        "id": "Jscs55DRrkWk"
      },
      "outputs": [],
      "source": [
        "# df = pd.read_csv(\"/content/Hotel Bookings.csv\")\n",
        "url = 'https://drive.google.com/uc?id=1C9AxF9fcVzMw0Bgs0NaRrNML2WwX1Ehm'\n",
        "df = pd.read_csv(url)"
      ]
    },
    {
      "cell_type": "markdown",
      "metadata": {
        "id": "x71ZqKXriCWQ"
      },
      "source": [
        "### Dataset First View"
      ]
    },
    {
      "cell_type": "code",
      "execution_count": null,
      "metadata": {
        "id": "LWNFOSvLl09H",
        "collapsed": true
      },
      "outputs": [],
      "source": [
        "# Dataset First Look\n",
        "df"
      ]
    },
    {
      "cell_type": "markdown",
      "metadata": {
        "id": "7hBIi_osiCS2"
      },
      "source": [
        "### Dataset Rows & Columns count"
      ]
    },
    {
      "cell_type": "code",
      "execution_count": null,
      "metadata": {
        "id": "Kllu7SJgmLij"
      },
      "outputs": [],
      "source": [
        "# Dataset Rows & Columns count\n",
        "df.shape"
      ]
    },
    {
      "cell_type": "markdown",
      "metadata": {
        "id": "JlHwYmJAmNHm"
      },
      "source": [
        "### Dataset Information"
      ]
    },
    {
      "cell_type": "code",
      "execution_count": null,
      "metadata": {
        "id": "e9hRXRi6meOf",
        "collapsed": true
      },
      "outputs": [],
      "source": [
        "# Dataset Info\n",
        "df.info()"
      ]
    },
    {
      "cell_type": "markdown",
      "metadata": {
        "id": "35m5QtbWiB9F"
      },
      "source": [
        "#### Duplicate Values"
      ]
    },
    {
      "cell_type": "code",
      "execution_count": null,
      "metadata": {
        "id": "1sLdpKYkmox0",
        "collapsed": true
      },
      "outputs": [],
      "source": [
        "# Check how many duplicate rows are in the dataset.\n",
        "\n",
        "duplicate_count = df.duplicated().sum()\n",
        "print(\"Duplicate rows:\", duplicate_count)"
      ]
    },
    {
      "cell_type": "code",
      "execution_count": null,
      "metadata": {
        "id": "h0mSjl-NVhV9"
      },
      "outputs": [],
      "source": [
        "# Keep only unique records and get total number of unique rows.\n",
        "\n",
        "df.drop_duplicates(inplace=True)\n",
        "print(\"Unique rows after removing duplicates:\", df.shape[0])"
      ]
    },
    {
      "cell_type": "markdown",
      "metadata": {
        "id": "PoPl-ycgm1ru"
      },
      "source": [
        "#### Missing Values/Null Values"
      ]
    },
    {
      "cell_type": "code",
      "execution_count": null,
      "metadata": {
        "id": "ZMEbqD1MXcDu"
      },
      "outputs": [],
      "source": [
        "# Find missing (null) values in the top 6 columns.\n",
        "\n",
        "missing_values = df.isnull().sum().sort_values(ascending=False).head(6)\n",
        "print(missing_values)"
      ]
    },
    {
      "cell_type": "code",
      "execution_count": null,
      "metadata": {
        "id": "I1d6eW4pX_1k",
        "collapsed": true
      },
      "outputs": [],
      "source": [
        "# Handle Missing Data\n",
        "\n",
        "df['company'].fillna(0, inplace=True)\n",
        "df['agent'].fillna(0, inplace=True)\n",
        "df['country'].fillna('Others', inplace=True)\n",
        "df['children'].fillna(0, inplace=True)"
      ]
    },
    {
      "cell_type": "code",
      "execution_count": null,
      "metadata": {
        "id": "nAHZt2AVZP0d",
        "collapsed": true
      },
      "outputs": [],
      "source": [
        "# Fill missing values with suitable defaults.\n",
        "df.isna().sum().sort_values(ascending=False)"
      ]
    },
    {
      "cell_type": "markdown",
      "metadata": {
        "id": "H0kj-8xxnORC"
      },
      "source": [
        "### What did you know about your dataset?"
      ]
    },
    {
      "cell_type": "markdown",
      "metadata": {
        "id": "gfoNAAC-nUe_"
      },
      "source": [
        "**Summary of Dataset**\n",
        "\n",
        "  * Rows: 119,390 | Columns: 32\n",
        "\n",
        "* Unique rows: 87,396 | Duplicates: 31,994\n",
        "\n",
        "* Columns with most nulls: company (82,137), agent (12,193), country (452), children (4)\n",
        "\n",
        "**Data includes:**\n",
        "\n",
        "* Hotel type (City, Resort)\n",
        "\n",
        "* Booking status, date info, guest count\n",
        "\n",
        "* Agent, company, country, stay duration\n",
        "\n",
        "* Customer type, ADR, room type, special requests"
      ]
    },
    {
      "cell_type": "markdown",
      "metadata": {
        "id": "nA9Y7ga8ng1Z"
      },
      "source": [
        "## ***2. Understanding Your Variables***"
      ]
    },
    {
      "cell_type": "code",
      "execution_count": null,
      "metadata": {
        "id": "j7xfkqrt5Ag5",
        "collapsed": true
      },
      "outputs": [],
      "source": [
        "# Dataset Columns\n",
        "df.columns"
      ]
    },
    {
      "cell_type": "code",
      "execution_count": null,
      "metadata": {
        "id": "DnOaZdaE5Q5t",
        "collapsed": true
      },
      "outputs": [],
      "source": [
        "# Dataset Describe\n",
        "df.describe().round(2)"
      ]
    },
    {
      "cell_type": "markdown",
      "metadata": {
        "id": "PBTbrJXOngz2"
      },
      "source": [
        "### Variables Description"
      ]
    },
    {
      "cell_type": "markdown",
      "metadata": {
        "id": "aJV4KIxSnxay"
      },
      "source": [
        "* Variable Description (with Summary Stats)\n",
        "\n",
        "* is_canceled: ~27.5% canceled bookings\n",
        "\n",
        "* lead_time: Avg = 80 days\n",
        "\n",
        "* arrival_date_year: 2015–2017\n",
        "\n",
        "* stays: Avg = 1 weekend night + 2.6 week nights\n",
        "\n",
        "* people: Adults, children, babies info\n",
        "\n",
        "* adr: Avg ~106.3 (rate per night)\n",
        "\n",
        "* special requests: Avg = 0.57 per booking\n",
        "\n",
        "* agent, company: Travel agency/company IDs"
      ]
    },
    {
      "cell_type": "markdown",
      "metadata": {
        "id": "u3PMJOP6ngxN"
      },
      "source": [
        "### Check Unique Values for each variable."
      ]
    },
    {
      "cell_type": "code",
      "execution_count": null,
      "metadata": {
        "id": "9R7ikwMO_utl",
        "collapsed": true
      },
      "outputs": [],
      "source": [
        "# Unique Values in Each Column\n",
        "\n",
        "for col in df.columns:\n",
        "  print(f\"{col} - Unique Values: {df[col].nunique()}\")"
      ]
    },
    {
      "cell_type": "markdown",
      "metadata": {
        "id": "dauF4eBmngu3"
      },
      "source": [
        "## 3. ***Data Wrangling***"
      ]
    },
    {
      "cell_type": "markdown",
      "metadata": {
        "id": "bKJF3rekwFvQ"
      },
      "source": [
        "### Data Wrangling Code"
      ]
    },
    {
      "cell_type": "code",
      "execution_count": null,
      "metadata": {
        "id": "wskGtvrTA0e6",
        "collapsed": true
      },
      "outputs": [],
      "source": [
        "df.info()"
      ]
    },
    {
      "cell_type": "code",
      "execution_count": null,
      "metadata": {
        "id": "INWVHKnEDegX"
      },
      "outputs": [],
      "source": [
        "# Data Type Conversion + New Columns\n",
        "# Convert data types\n",
        "\n",
        "df[['children', 'company', 'agent']] = df[['children', 'company', 'agent']].astype(int)\n",
        "df['reservation_status_date'] = pd.to_datetime(df['reservation_status_date'])"
      ]
    },
    {
      "cell_type": "code",
      "execution_count": null,
      "metadata": {
        "id": "hTHBcPcdDrIX"
      },
      "outputs": [],
      "source": [
        "# Create new columns\n",
        "df['total_stay'] = df['stays_in_weekend_nights'] + df['stays_in_week_nights']\n",
        "df['total_people'] = df['adults'] + df['children'] + df['babies']"
      ]
    },
    {
      "cell_type": "code",
      "execution_count": null,
      "metadata": {
        "id": "Vm2cJbX21RJe",
        "collapsed": true
      },
      "outputs": [],
      "source": [
        "print(df[['total_stay', 'total_people']].head())"
      ]
    },
    {
      "cell_type": "markdown",
      "metadata": {
        "id": "MSa1f5Uengrz"
      },
      "source": [
        "### What all manipulations have you done and insights you found?"
      ]
    },
    {
      "cell_type": "markdown",
      "metadata": {
        "id": "LbyXE7I1olp8"
      },
      "source": [
        "1.Data Type:\n",
        " * I changed the data type of certain columns to the correct format. Specifically, I converted the data types of the columns `children`, `company`, and `agent` to integer format. This ensures that calculations and analyses involving these fields can be performed accurately and efficiently without any type-related issues.\n",
        "\n",
        "2.Creating New Columns from Existing Ones to Gain More Insight:\n",
        "* I created a new column named `total_stay` by adding the values from the `stays_in_weekend_nights` and `stays_in_week_nights` columns. This new column gives a clearer understanding of the total number of nights a guest stayed, regardless of whether the stay was during the weekend or on weekdays. By analyzing this column, I can better understand the total duration of stay for each booking across both types of hotels.\n",
        "\n",
        "Additionally, I created another column named `total_people` by summing the values of the `adults`, `children`, and `babies` columns. This column helps to identify the total number of people included in a single booking. It provides useful insight into the overall occupancy of each room or hotel stay, helping to assess capacity and service needs more accurately.\n",
        "\n"
      ]
    },
    {
      "cell_type": "markdown",
      "metadata": {
        "id": "GF8Ens_Soomf"
      },
      "source": [
        "## ***4. Data Vizualization, Storytelling & Experimenting with charts : Understand the relationships between variables***"
      ]
    },
    {
      "cell_type": "code",
      "execution_count": null,
      "metadata": {
        "id": "1CI4Il3364Ep",
        "collapsed": true
      },
      "outputs": [],
      "source": [
        "df.info()"
      ]
    },
    {
      "cell_type": "markdown",
      "metadata": {
        "id": "0wOQAZs5pc--"
      },
      "source": [
        "#### Chart - 1"
      ]
    },
    {
      "cell_type": "code",
      "execution_count": null,
      "metadata": {
        "id": "7v_ESjsspbW7"
      },
      "outputs": [],
      "source": [
        "# Chart - Booking Cancellation Comparison by Hotel Type\n",
        "plt.figure(figsize=(8,6))\n",
        "sns.countplot(data=df, x='is_canceled', hue='hotel')\n",
        "plt.xlabel('Booking Cancellation Status')\n",
        "plt.ylabel('Count')\n",
        "plt.title('Count of Canceled vs Not Canceled Bookings')\n",
        "plt.show()"
      ]
    },
    {
      "cell_type": "markdown",
      "metadata": {
        "id": "K5QZ13OEpz2H"
      },
      "source": [
        "##### 1. Why did you pick the specific chart?"
      ]
    },
    {
      "cell_type": "markdown",
      "metadata": {
        "id": "XESiWehPqBRc"
      },
      "source": [
        "**📊Chart Type: Bar Chart**\n",
        "\n",
        "📌Used to compare the number of canceled vs. not canceled bookings for different hotel types."
      ]
    },
    {
      "cell_type": "markdown",
      "metadata": {
        "id": "lQ7QKXXCp7Bj"
      },
      "source": [
        "##### 2. What is/are the insight(s) found from the chart?"
      ]
    },
    {
      "cell_type": "markdown",
      "metadata": {
        "id": "C_j1G7yiqdRP"
      },
      "source": [
        "➡️ **City hotels have more cancellations than resort hotels.**"
      ]
    },
    {
      "cell_type": "markdown",
      "metadata": {
        "id": "448CDAPjqfQr"
      },
      "source": [
        "##### 3. Will the gained insights help creating a positive business impact?\n",
        "Are there any insights that lead to negative growth? Justify with specific reason."
      ]
    },
    {
      "cell_type": "markdown",
      "source": [
        "✅Yes. Helps the hotel focus on reducing cancellations by adjusting policies or communication.  \n",
        "⚠️ High cancellations in city hotels could lead to revenue loss."
      ],
      "metadata": {
        "id": "MF22T65ri8uD"
      }
    },
    {
      "cell_type": "markdown",
      "metadata": {
        "id": "KSlN3yHqYklG"
      },
      "source": [
        "#### Chart - 2"
      ]
    },
    {
      "cell_type": "code",
      "execution_count": null,
      "metadata": {
        "id": "R4YgtaqtYklH"
      },
      "outputs": [],
      "source": [
        "# Chart - 2 Types of Hotels Booked by Percentage\n",
        "hotel_data = df['hotel'].value_counts()\n",
        "\n",
        "# Draw pie chart\n",
        "plt.pie(hotel_data, labels=hotel_data.index, autopct='%1.1f%%')\n",
        "plt.title('Types of Hotels Booked')\n",
        "plt.axis('equal')  # Makes the pie look like a circle\n",
        "plt.show()\n"
      ]
    },
    {
      "cell_type": "markdown",
      "metadata": {
        "id": "t6dVpIINYklI"
      },
      "source": [
        "##### 1. Why did you pick the specific chart?"
      ]
    },
    {
      "cell_type": "markdown",
      "metadata": {
        "id": "5aaW0BYyYklI"
      },
      "source": [
        "**📊Chart Type: Bar Chart**\n",
        "\n",
        "📌To see what type of hotel people book more – City Hotel or Resort Hotel."
      ]
    },
    {
      "cell_type": "markdown",
      "metadata": {
        "id": "ijmpgYnKYklI"
      },
      "source": [
        "##### 2. What is/are the insight(s) found from the chart?"
      ]
    },
    {
      "cell_type": "markdown",
      "metadata": {
        "id": "PSx9atu2YklI"
      },
      "source": [
        "➡️ *Most of the bookings are for City Hotels.*."
      ]
    },
    {
      "cell_type": "markdown",
      "metadata": {
        "id": "-JiQyfWJYklI"
      },
      "source": [
        "##### 3. Will the gained insights help creating a positive business impact?\n",
        "Are there any insights that lead to negative growth? Justify with specific reason."
      ]
    },
    {
      "cell_type": "markdown",
      "metadata": {
        "id": "BcBbebzrYklV"
      },
      "source": [
        "**✅Yes. Hotels can use this info to invest more in the hotel type with more demand.**"
      ]
    },
    {
      "cell_type": "markdown",
      "source": [
        "⚠️  If resort hotels are not getting many bookings, they can improve offers or advertise more.**"
      ],
      "metadata": {
        "id": "mseeqLyHkTn4"
      }
    },
    {
      "cell_type": "markdown",
      "metadata": {
        "id": "EM7whBJCYoAo"
      },
      "source": [
        "#### Chart - 3"
      ]
    },
    {
      "cell_type": "code",
      "execution_count": null,
      "metadata": {
        "id": "t6GMdE67YoAp"
      },
      "outputs": [],
      "source": [
        "# Chart 3: Top 10 Countries Contributing to Hotel Bookings\n",
        "top_countries = df['country'].value_counts().head(10)\n",
        "top_countries.plot(kind='bar', color='teal')\n",
        "plt.title('Top 10 Countries by Number of Bookings')\n",
        "plt.xlabel('Country')\n",
        "plt.ylabel('Number of Bookings')\n",
        "plt.show()"
      ]
    },
    {
      "cell_type": "markdown",
      "metadata": {
        "id": "fge-S5ZAYoAp"
      },
      "source": [
        "##### 1. Why did you pick the specific chart?"
      ]
    },
    {
      "cell_type": "markdown",
      "metadata": {
        "id": "5dBItgRVYoAp"
      },
      "source": [
        "**📊Chart Type: Bar Chart**\n",
        "\n",
        "📌Displays the top 10 countries with the most hotel bookings."
      ]
    },
    {
      "cell_type": "markdown",
      "metadata": {
        "id": "85gYPyotYoAp"
      },
      "source": [
        "##### 2. What is/are the insight(s) found from the chart?"
      ]
    },
    {
      "cell_type": "markdown",
      "metadata": {
        "id": "4jstXR6OYoAp"
      },
      "source": [
        "➡️ **Portugal and other countries like the UK and France have more bookings.**"
      ]
    },
    {
      "cell_type": "markdown",
      "metadata": {
        "id": "RoGjAbkUYoAp"
      },
      "source": [
        "##### 3. Will the gained insights help creating a positive business impact?\n",
        "Are there any insights that lead to negative growth? Justify with specific reason."
      ]
    },
    {
      "cell_type": "markdown",
      "metadata": {
        "id": "zfJ8IqMcYoAp"
      },
      "source": [
        "✅Yes. Hotels can target marketing in these top countries.\n",
        "\n",
        " ⚠️ Not promoting in these countries may reduce customer reach."
      ]
    },
    {
      "cell_type": "markdown",
      "metadata": {
        "id": "4Of9eVA-YrdM"
      },
      "source": [
        "#### Chart - 4"
      ]
    },
    {
      "cell_type": "code",
      "execution_count": null,
      "metadata": {
        "id": "irlUoxc8YrdO"
      },
      "outputs": [],
      "source": [
        "# Chart - 4 Monthly Booking Trends for Resort & City Hotels\n",
        "\n",
        "plt.figure(figsize=(15, 5))\n",
        "sns.countplot(data=df, x='arrival_date_month', hue=\"hotel\")\n",
        "plt.xticks(rotation=45)\n",
        "plt.xlabel('Arrival Month')\n",
        "plt.ylabel('Count')\n",
        "plt.title(\"Arrival Date Month Distribution\")\n",
        "plt.show()"
      ]
    },
    {
      "cell_type": "markdown",
      "metadata": {
        "id": "iky9q4vBYrdO"
      },
      "source": [
        "##### 1. Why did you pick the specific chart?"
      ]
    },
    {
      "cell_type": "markdown",
      "metadata": {
        "id": "aJRCwT6DYrdO"
      },
      "source": [
        "**📊 Chart Type: Line Chart or Grouped Bar Chart**\n",
        "\n",
        "📌 Illustrates the number of bookings each month, comparing between resort and city hotels."
      ]
    },
    {
      "cell_type": "markdown",
      "metadata": {
        "id": "F6T5p64dYrdO"
      },
      "source": [
        "##### 2. What is/are the insight(s) found from the chart?"
      ]
    },
    {
      "cell_type": "markdown",
      "metadata": {
        "id": "Xx8WAJvtYrdO"
      },
      "source": [
        "➡️ July and August have the most bookings — summer holidays."
      ]
    },
    {
      "cell_type": "markdown",
      "metadata": {
        "id": "y-Ehk30pYrdP"
      },
      "source": [
        "##### 3. Will the gained insights help creating a positive business impact?\n",
        "Are there any insights that lead to negative growth? Justify with specific reason."
      ]
    },
    {
      "cell_type": "markdown",
      "metadata": {
        "id": "jLNxxz7MYrdP"
      },
      "source": [
        "✅Yes. Hotels can prepare more staff and rooms during busy months.\n",
        "\n",
        "*⚠️* planning for high seasons can affect customer experience."
      ]
    },
    {
      "cell_type": "markdown",
      "metadata": {
        "id": "OH-pJp9IphqM"
      },
      "source": [
        "#### Chart - 5"
      ]
    },
    {
      "cell_type": "code",
      "execution_count": null,
      "metadata": {
        "id": "kuRf4wtuphqN"
      },
      "outputs": [],
      "source": [
        "#Chart - 5 Percentage of Different Customer Types\n",
        "customer_type = df['customer_type'].value_counts()\n",
        "plt.figure(figsize=(8, 6))\n",
        "plt.pie(customer_type.values, labels=customer_type.index, autopct='%1.1f%%')\n",
        "plt.title('Customer Type Distribution')\n",
        "plt.axis('equal')\n",
        "plt.show()"
      ]
    },
    {
      "cell_type": "markdown",
      "metadata": {
        "id": "bbFf2-_FphqN"
      },
      "source": [
        "##### 1. Why did you pick the specific chart?"
      ]
    },
    {
      "cell_type": "markdown",
      "metadata": {
        "id": "loh7H2nzphqN"
      },
      "source": [
        "**📊 Chart Type: Pie Chart**\n",
        "\n",
        "📌 Shows the proportion of bookings from different customer types (e.g., transient, group, etc.)."
      ]
    },
    {
      "cell_type": "markdown",
      "metadata": {
        "id": "_ouA3fa0phqN"
      },
      "source": [
        "##### 2. What is/are the insight(s) found from the chart?"
      ]
    },
    {
      "cell_type": "markdown",
      "metadata": {
        "id": "VECbqPI7phqN"
      },
      "source": [
        "➡️ Most bookings are by transient customers (not part of groups)."
      ]
    },
    {
      "cell_type": "markdown",
      "metadata": {
        "id": "Seke61FWphqN"
      },
      "source": [
        "##### 3. Will the gained insights help creating a positive business impact?\n",
        "Are there any insights that lead to negative growth? Justify with specific reason."
      ]
    },
    {
      "cell_type": "markdown",
      "metadata": {
        "id": "DW4_bGpfphqN"
      },
      "source": [
        "✅Yes. Helps hotels focus on what type of customer needs more attention."
      ]
    },
    {
      "cell_type": "markdown",
      "source": [
        "⚠️Ignoring smaller segments (like group customers) may reduce long-term bookings."
      ],
      "metadata": {
        "id": "VRpjFqMNnIud"
      }
    },
    {
      "cell_type": "markdown",
      "metadata": {
        "id": "PIIx-8_IphqN"
      },
      "source": [
        "#### Chart - 6"
      ]
    },
    {
      "cell_type": "code",
      "execution_count": null,
      "metadata": {
        "id": "lqAIGUfyphqO"
      },
      "outputs": [],
      "source": [
        "# Chart - 6 Booking Sources by Market Segment (Online, Corporate, etc.)\n",
        "\n",
        "market_segment = df['market_segment'].value_counts()\n",
        "plt.figure(figsize=(10, 8))\n",
        "plt.pie(market_segment.values, labels=market_segment.index, autopct='%1.1f%%', startangle=190)\n",
        "plt.title(\"Market Segment Distribution\")\n",
        "plt.axis('equal')\n",
        "plt.legend(market_segment.index, loc=\"center left\", bbox_to_anchor=(1, 0, 1, 1))\n",
        "plt.show()"
      ]
    },
    {
      "cell_type": "markdown",
      "metadata": {
        "id": "t27r6nlMphqO"
      },
      "source": [
        "##### 1. Why did you pick the specific chart?"
      ]
    },
    {
      "cell_type": "markdown",
      "metadata": {
        "id": "iv6ro40sphqO"
      },
      "source": [
        "**📊 Chart Type: Bar Chart**\n",
        "\n",
        "📌 Represents the distribution of bookings across various market segments."
      ]
    },
    {
      "cell_type": "markdown",
      "metadata": {
        "id": "r2jJGEOYphqO"
      },
      "source": [
        "##### 2. What is/are the insight(s) found from the chart?"
      ]
    },
    {
      "cell_type": "markdown",
      "metadata": {
        "id": "Po6ZPi4hphqO"
      },
      "source": [
        "➡️Most bookings are made via Online Travel Agents (OTA), followed by direct bookings and corporate channels"
      ]
    },
    {
      "cell_type": "markdown",
      "metadata": {
        "id": "b0JNsNcRphqO"
      },
      "source": [
        "##### 3. Will the gained insights help creating a positive business impact?\n",
        "Are there any insights that lead to negative growth? Justify with specific reason."
      ]
    },
    {
      "cell_type": "markdown",
      "metadata": {
        "id": "xvSq8iUTphqO"
      },
      "source": [
        "✅Yes. Hotels can focus partnerships and marketing efforts on channels that drive the most traffic."
      ]
    },
    {
      "cell_type": "markdown",
      "source": [
        "⚠️ Over-reliance on OTAs can be risky if their policies change or fees increase."
      ],
      "metadata": {
        "id": "dtj2axHBnqp9"
      }
    },
    {
      "cell_type": "markdown",
      "metadata": {
        "id": "n3dbpmDWp1ck"
      },
      "source": [
        "#### Chart - 7"
      ]
    },
    {
      "cell_type": "code",
      "execution_count": null,
      "metadata": {
        "id": "bwevp1tKp1ck"
      },
      "outputs": [],
      "source": [
        "# Chart - 7 Relationship Between Guest Requests and Length of Stay\n",
        "\n",
        "plt.figure(figsize=(8,6))\n",
        "sns.scatterplot(data=df, y='total_stay', x='total_of_special_requests', hue='hotel', size='is_canceled')\n",
        "plt.title('Special Requests vs Total Stay')\n",
        "plt.xlabel(\"Total Number of Special Requests\")\n",
        "plt.ylabel(\"Total Stay\")\n",
        "plt.grid(True)\n",
        "plt.show()"
      ]
    },
    {
      "cell_type": "markdown",
      "metadata": {
        "id": "ylSl6qgtp1ck"
      },
      "source": [
        "##### 1. Why did you pick the specific chart?"
      ]
    },
    {
      "cell_type": "markdown",
      "metadata": {
        "id": "m2xqNkiQp1ck"
      },
      "source": [
        "**📊 Chart Type: Scatter Plot**\n",
        "\n",
        "📌 Explores the correlation between the number of special requests and total stay duration, differentiated by hotel and cancellation status."
      ]
    },
    {
      "cell_type": "markdown",
      "metadata": {
        "id": "ZWILFDl5p1ck"
      },
      "source": [
        "##### 2. What is/are the insight(s) found from the chart?"
      ]
    },
    {
      "cell_type": "markdown",
      "metadata": {
        "id": "x-lUsV2mp1ck"
      },
      "source": [
        "➡️ Guests staying longer often request more special services. Also, some of these bookings end up canceled."
      ]
    },
    {
      "cell_type": "markdown",
      "metadata": {
        "id": "M7G43BXep1ck"
      },
      "source": [
        "##### 3. Will the gained insights help creating a positive business impact?\n",
        "Are there any insights that lead to negative growth? Justify with specific reason."
      ]
    },
    {
      "cell_type": "markdown",
      "metadata": {
        "id": "5wwDJXsLp1cl"
      },
      "source": [
        "✅Yes. Helps hotel staff to better plan amenities and fulfill customer needs based on expected length of stay."
      ]
    },
    {
      "cell_type": "markdown",
      "source": [
        "⚠️ Not fulfilling special requests for long-stay guests might lead to dissatisfaction or cancellations."
      ],
      "metadata": {
        "id": "eNacFwYGoJdb"
      }
    },
    {
      "cell_type": "markdown",
      "metadata": {
        "id": "JcMwzZxoAimU"
      },
      "source": [
        "## **5. Solution to Business Objective**"
      ]
    },
    {
      "cell_type": "markdown",
      "metadata": {
        "id": "8G2x9gOozGDZ"
      },
      "source": [
        "#### What do you suggest the client to achieve Business Objective ?\n",
        "Explain Briefly."
      ]
    },
    {
      "cell_type": "markdown",
      "metadata": {
        "id": "gmRPxgbP8Wyn"
      },
      "source": [
        "What should the hotel do to reach its business goals?\n",
        "\n",
        "1 Set Better Prices – Use booking and season data to change room prices smartly. Charge more in busy times, less in slow times.\n",
        "\n",
        "2 Make Guests Happier – Look at what guests ask for and how long they stay. Offer better service and personalized help.\n",
        "\n",
        "3 Add More Food Choices – If many guests want different meals, give them more food options and special offers.\n",
        "\n",
        "4 Smarter Ads – Use customer data to show the right ads to the right people (like families, solo travelers, etc.).\n",
        "\n",
        "5 Make Booking Easier – Let people book easily and cancel if needed. Use a simple system that works fast.\n"
      ]
    },
    {
      "cell_type": "markdown",
      "metadata": {
        "id": "gCX9965dhzqZ"
      },
      "source": [
        "# **Conclusion**"
      ]
    },
    {
      "cell_type": "markdown",
      "metadata": {
        "id": "Fjb1IsQkh3yE"
      },
      "source": [
        "Using the data, the hotel can make smart choices to grow its business.\n",
        "They can earn more, keep guests happy, and beat their competition by improving prices, service, food, ads, and booking systems."
      ]
    },
    {
      "cell_type": "markdown",
      "metadata": {
        "id": "gIfDvo9L0UH2"
      },
      "source": [
        "### ***Hurrah! You have successfully completed your EDA Capstone Project !!!***"
      ]
    }
  ],
  "metadata": {
    "colab": {
      "collapsed_sections": [
        "mDgbUHAGgjLW",
        "gIfDvo9L0UH2"
      ],
      "private_outputs": true,
      "provenance": [],
      "include_colab_link": true
    },
    "kernelspec": {
      "display_name": ".venv",
      "language": "python",
      "name": "python3"
    },
    "language_info": {
      "codemirror_mode": {
        "name": "ipython",
        "version": 3
      },
      "file_extension": ".py",
      "mimetype": "text/x-python",
      "name": "python",
      "nbconvert_exporter": "python",
      "pygments_lexer": "ipython3",
      "version": "3.12.8"
    }
  },
  "nbformat": 4,
  "nbformat_minor": 0
}